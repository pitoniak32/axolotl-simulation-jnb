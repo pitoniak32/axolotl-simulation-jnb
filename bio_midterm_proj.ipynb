{
 "cells": [
  {
   "cell_type": "markdown",
   "id": "f90e3ffe",
   "metadata": {},
   "source": [
    "# Welcome to My Diet Simulation Experiment!"
   ]
  },
  {
   "cell_type": "markdown",
   "id": "c572d80b",
   "metadata": {},
   "source": [
    "## Experiment overview\n",
    "\n",
    "In this notebook I will be creating a very simplified simulation that will show the relation of diet and overall well being of an Axolotl and a Human.  \n",
    "\n",
    "I will be creating a base animal that has features that both Axolotls and Humans share, such as\n",
    "\n",
    "### Attributes:\n",
    "- Name\n",
    "- Diet Type\n",
    "- Healing potential\n",
    "- Growth potential\n",
    "\n",
    "### Actions:\n",
    "- eat\n",
    "- heal\n",
    "- become injured\n",
    "\n",
    "With this base Animal I will be able to create more specific versions for Axolotls and Humans that will reflect their respective diets.  \n",
    "\n",
    "This program will be ran in a loop that will run the specific actions of both Animals at the same time and graph the resulting data.  \n",
    "\n",
    "The goal is to show that changing the diet of an animal can cause its cells to be less efficent at maintaining homeostatis and also allowing the animal to grow and progress."
   ]
  },
  {
   "cell_type": "code",
   "execution_count": 107,
   "id": "07b5bf1c",
   "metadata": {},
   "outputs": [],
   "source": [
    "# Importing the needed library to create the base Animal\n",
    "from abc import ABC, abstractmethod\n",
    "import enum"
   ]
  },
  {
   "cell_type": "code",
   "execution_count": 108,
   "id": "a63bffe7",
   "metadata": {},
   "outputs": [],
   "source": [
    "class DietType(enum.Enum):\n",
    "    HERBIVORE = 'herbivore'\n",
    "    CARNIVORE = 'carnivore'\n",
    "    OMNIVORE = 'omnivore'"
   ]
  },
  {
   "cell_type": "code",
   "execution_count": 109,
   "id": "679e431a",
   "metadata": {},
   "outputs": [],
   "source": [
    "class Animal(ABC):\n",
    "    def __init__(self, name, dietType, healRate, growthRate):\n",
    "        self.name = name\n",
    "        self.dietType = dietType\n",
    "        self.health = 100\n",
    "        self.size = 1\n",
    "        self.healRate = healRate\n",
    "        self.growthRate = growthRate\n",
    "    \n",
    "    @abstractmethod\n",
    "    def heal(self):\n",
    "        pass\n",
    "        \n",
    "    @abstractmethod\n",
    "    def eat(self):\n",
    "        pass\n",
    "    \n",
    "    @abstractmethod\n",
    "    def takeDamage(self, dmg):\n",
    "        pass\n",
    "        "
   ]
  },
  {
   "cell_type": "markdown",
   "id": "b2269f38",
   "metadata": {},
   "source": [
    "## Now that we have a base Animal defined we can create the more specific Axolotl and Human versions  \n",
    "We are going to say that if an Axolotl is a Carvivore they will have 100 % chance for growth and healing becasue that is their natural diet. But when we change to Omnivore they both take a slight hit but still remain at 75% each, and when the diet type is Herbivore they take an even larger hit because they are no longer getting their meat that their original diet required."
   ]
  },
  {
   "cell_type": "code",
   "execution_count": 110,
   "id": "72fe15fe",
   "metadata": {},
   "outputs": [],
   "source": [
    "class Axolotl(Animal):\n",
    "    def __init__(self, name, dietType):\n",
    "        if(dietType == DietType.OMNIVORE):\n",
    "            self.healPotential = .75\n",
    "            self.growthPotential = .75\n",
    "        elif(dietType == DietType.HERBIVORE):\n",
    "            self.healPotential = .50\n",
    "            self.growthPotential = .50\n",
    "        elif(dietType == DietType.CARNIVORE):\n",
    "            self.healPotential = 1.0\n",
    "            self.growthPotential = 1.0\n",
    "        else:\n",
    "            raise TypeError('dietType must be of Type DietType.')\n",
    "        super().__init__(name, dietType, .3, .15)\n",
    "        \n",
    "        \n",
    "    def heal(self):\n",
    "        healAmnt = 1 + self.healPotential + self.healRate\n",
    "        if self.health + healAmnt > 100:\n",
    "            self.health = 100\n",
    "        else:\n",
    "            self.health += healAmnt\n",
    "        \n",
    "    def eat(self):\n",
    "        self.size += 1 * self.growthPotential + self.growthRate\n",
    "        \n",
    "    def takeDamage(self, dmg):\n",
    "        self.health -= dmg"
   ]
  },
  {
   "cell_type": "markdown",
   "id": "6201b28c",
   "metadata": {},
   "source": [
    "Since it has been a long debate for the best type of diet for humans I will keep it very very simple. For the human we are going to say that as an Omnivore we get a good balance of both growth and healing, as a Herbivore we get better healing potential, and as a Carnivore we get better growth potential but less healing potential."
   ]
  },
  {
   "cell_type": "code",
   "execution_count": 111,
   "id": "e53323c0",
   "metadata": {},
   "outputs": [],
   "source": [
    "class Human(Animal):\n",
    "    def __init__(self, name, dietType):\n",
    "        if(dietType == DietType.OMNIVORE):\n",
    "            self.healPotential = .75\n",
    "            self.growthPotential = .75\n",
    "        elif(dietType == DietType.HERBIVORE):\n",
    "            self.healPotential = 1.0\n",
    "            self.growthPotential = .50\n",
    "        elif(dietType == DietType.CARNIVORE):\n",
    "            self.healPotential = .50\n",
    "            self.growthPotential = 1.0\n",
    "        else:\n",
    "            raise TypeError('dietType must be of Type DietType.')\n",
    "        super().__init__(name, dietType, .25, .5)\n",
    "        self.size = 5\n",
    "        \n",
    "    def heal(self):\n",
    "        healAmnt = 1 + self.healPotential + self.healRate\n",
    "        if self.health + healAmnt > 100:\n",
    "            self.health = 100\n",
    "        else:\n",
    "            self.health += healAmnt\n",
    "    \n",
    "    def eat(self):\n",
    "        self.size += 5 * self.growthPotential + self.growthRate\n",
    "        \n",
    "    def takeDamage(self, dmg):\n",
    "        self.health -= dmg"
   ]
  },
  {
   "cell_type": "markdown",
   "id": "4408a591",
   "metadata": {},
   "source": [
    "With that being said here is a test situation where we have an axolotl named fred that is an Omnivore. When we print freds healthPotential it should read .75, he should also take the amount of damage we specify and also heal from that damage based on his healPotential."
   ]
  },
  {
   "cell_type": "code",
   "execution_count": 112,
   "id": "a4f75fba",
   "metadata": {},
   "outputs": [
    {
     "name": "stdout",
     "output_type": "stream",
     "text": [
      "healthPotential: 0.75\n",
      "health: 100\n",
      "fred takes 10 damage.\n",
      "health: 90\n",
      "fred heals.\n",
      "health: 92.05\n",
      "size: 1\n",
      "fred eats.\n",
      "size: 1.9\n"
     ]
    }
   ],
   "source": [
    "axolotl_fred = Axolotl('fred', DietType.OMNIVORE)\n",
    "\n",
    "print('healthPotential:', axolotl_fred.healPotential)\n",
    "print('health:', axolotl_fred.health)\n",
    "print('fred takes 10 damage.')\n",
    "axolotl_fred.takeDamage(10)\n",
    "print('health:', axolotl_fred.health)\n",
    "print('fred heals.')\n",
    "axolotl_fred.heal()\n",
    "print('health:', axolotl_fred.health)\n",
    "print('size:', axolotl_fred.size)\n",
    "print('fred eats.')\n",
    "axolotl_fred.eat()\n",
    "print('size:', axolotl_fred.size)"
   ]
  },
  {
   "cell_type": "markdown",
   "id": "6bbdc1d5",
   "metadata": {},
   "source": [
    "Now that we have our Animals defined and their behaviors specified we can start looking at what might happen when the are carrying out their lives with different diets"
   ]
  },
  {
   "cell_type": "markdown",
   "id": "5c7740c7",
   "metadata": {},
   "source": [
    "## Creating the virtual world for the animals to interact\n",
    "\n",
    "We will create a simulation of a world that every 1 second will have the animals do a random action. Each second we will also record the animals state to graph later."
   ]
  },
  {
   "cell_type": "code",
   "execution_count": 113,
   "id": "df345e2c",
   "metadata": {},
   "outputs": [],
   "source": [
    "import time\n",
    "import random\n",
    "import copy"
   ]
  },
  {
   "cell_type": "code",
   "execution_count": 114,
   "id": "5e69d2f5",
   "metadata": {},
   "outputs": [],
   "source": [
    "# 1, 2 = eat, 3, 4 = heal, 5 = take damage\n",
    "actions = [1, 2, 3, 4, 5]\n",
    "\n",
    "def doRandomAction(animals):\n",
    "    action = random.choice(actions)\n",
    "    for animal in animals:\n",
    "        if(action == 1 or action == 2):\n",
    "            animal.eat()\n",
    "        elif(action == 3 or action == 4):\n",
    "            animal.heal()\n",
    "        else:\n",
    "            animal.takeDamage(random.randrange(1, 10, 2))"
   ]
  },
  {
   "cell_type": "code",
   "execution_count": 115,
   "id": "7616dc59",
   "metadata": {},
   "outputs": [],
   "source": [
    "def runSimulation(animals, times):\n",
    "    saves = []\n",
    "    # for 15 cycles perform a random action on each animal and saves copies of the results.\n",
    "    for i in range(times):\n",
    "        doRandomAction(animals)\n",
    "        saves.append(copy.deepcopy(animals))\n",
    "    \n",
    "    return saves"
   ]
  },
  {
   "cell_type": "markdown",
   "id": "e773a6f8",
   "metadata": {},
   "source": [
    "### Now that we have the base for the Animals and their Simulated Environment we can create some data.\n",
    "We will start with the **Axolotls**. First we will create one axolotl for each DietType."
   ]
  },
  {
   "cell_type": "code",
   "execution_count": 116,
   "id": "e0032a0e",
   "metadata": {},
   "outputs": [
    {
     "name": "stdout",
     "output_type": "stream",
     "text": [
      "\n",
      "number of saves: 15\n"
     ]
    }
   ],
   "source": [
    "frank = Axolotl('frank', DietType.CARNIVORE)\n",
    "mark  = Axolotl('mark', DietType.HERBIVORE)\n",
    "fred  = Axolotl('fred', DietType.OMNIVORE)\n",
    "\n",
    "axolotls = [frank, fred, mark]\n",
    "\n",
    "axolotl_data = runSimulation(axolotls, 15)\n",
    "\n",
    "print('\\nnumber of saves:', len(axolotl_data))"
   ]
  },
  {
   "cell_type": "markdown",
   "id": "2b0ca36b",
   "metadata": {},
   "source": [
    "We will also do the same for the **Humans**."
   ]
  },
  {
   "cell_type": "code",
   "execution_count": 117,
   "id": "34b3c221",
   "metadata": {},
   "outputs": [
    {
     "name": "stdout",
     "output_type": "stream",
     "text": [
      "\n",
      "number of saves: 15\n"
     ]
    }
   ],
   "source": [
    "bob  = Human('bob', DietType.CARNIVORE)\n",
    "sara = Human('sara', DietType.HERBIVORE)\n",
    "dave = Human('dave', DietType.OMNIVORE)\n",
    "\n",
    "humans = [bob, dave, sara]\n",
    "\n",
    "human_data = runSimulation(humans, 15)\n",
    "\n",
    "print('\\nnumber of saves:', len(human_data))"
   ]
  },
  {
   "cell_type": "markdown",
   "id": "fbeef880",
   "metadata": {},
   "source": [
    "### We have our data for all 3 Diet Types in Humans and Axolotls. We can now graph our data and see how it compares."
   ]
  },
  {
   "cell_type": "code",
   "execution_count": 118,
   "id": "0f257282",
   "metadata": {},
   "outputs": [],
   "source": [
    "import numpy as np\n",
    "import matplotlib.pyplot as plt"
   ]
  },
  {
   "cell_type": "code",
   "execution_count": 119,
   "id": "313a83b4",
   "metadata": {},
   "outputs": [],
   "source": [
    "def plotAnimalData(animal_type, animal_data):\n",
    "    health_carn = []\n",
    "    health_herb = []\n",
    "    health_omni = []\n",
    "    \n",
    "    size_carn = []\n",
    "    size_herb = []\n",
    "    size_omni = []\n",
    "\n",
    "    for animal_entry in animal_data:\n",
    "        for i in range(3):\n",
    "            if i == 0:\n",
    "                health_carn.append(animal_entry[i].health)\n",
    "                size_carn.append(animal_entry[i].size)\n",
    "            elif i == 1:\n",
    "                health_herb.append(animal_entry[i].health)\n",
    "                size_herb.append(animal_entry[i].size)\n",
    "            elif i == 2:\n",
    "                health_omni.append(animal_entry[i].health)\n",
    "                size_omni.append(animal_entry[i].size)\n",
    "\n",
    "    plt.plot(health_carn, color = 'red', label='carnivore')\n",
    "    plt.plot(health_herb, color = 'green', label='herbivore')\n",
    "    plt.plot(health_omni, color = 'orange', label='omnivore')\n",
    "\n",
    "    plt.xlabel('Iterations')\n",
    "    plt.ylabel(animal_type + ' Health')\n",
    "    plt.title(animal_type + ' Health Change Per Diet')\n",
    "\n",
    "    plt.legend()\n",
    "    plt.show()\n",
    "    \n",
    "    plt.plot(size_carn, color = 'red', label='carnivore')\n",
    "    plt.plot(size_herb, color = 'green', label='herbivore')\n",
    "    plt.plot(size_omni, color = 'orange', label='omnivore')\n",
    "\n",
    "    plt.xlabel('Iterations')\n",
    "    plt.ylabel(animal_type + ' Size')\n",
    "    plt.title(animal_type + ' Size Change Per Diet')\n",
    "\n",
    "    plt.legend()\n",
    "    plt.show()"
   ]
  },
  {
   "cell_type": "code",
   "execution_count": 120,
   "id": "2fc16f5e",
   "metadata": {},
   "outputs": [
    {
     "data": {
      "image/png": "[encoded data removed]",
      "text/plain": [
       "<Figure size 432x288 with 1 Axes>"
      ]
     },
     "metadata": {
      "needs_background": "light"
     },
     "output_type": "display_data"
    },
    {
     "data": {
      "image/png": "[encoded data removed]",
      "text/plain": [
       "<Figure size 432x288 with 1 Axes>"
      ]
     },
     "metadata": {
      "needs_background": "light"
     },
     "output_type": "display_data"
    }
   ],
   "source": [
    "plotAnimalData('Human', human_data)"
   ]
  },
  {
   "cell_type": "code",
   "execution_count": 121,
   "id": "7a062b62",
   "metadata": {},
   "outputs": [
    {
     "data": {
      "image/png": "[encoded data removed]",
      "text/plain": [
       "<Figure size 432x288 with 1 Axes>"
      ]
     },
     "metadata": {
      "needs_background": "light"
     },
     "output_type": "display_data"
    },
    {
     "data": {
      "image/png": "[encoded data removed]",
      "text/plain": [
       "<Figure size 432x288 with 1 Axes>"
      ]
     },
     "metadata": {
      "needs_background": "light"
     },
     "output_type": "display_data"
    }
   ],
   "source": [
    "plotAnimalData('Axolotl', axolotl_data)"
   ]
  },
  {
   "cell_type": "code",
   "execution_count": null,
   "id": "5a6bb806",
   "metadata": {},
   "outputs": [],
   "source": []
  }
 ],
 "metadata": {
  "kernelspec": {
   "display_name": "Python 3 (ipykernel)",
   "language": "python",
   "name": "python3"
  },
  "language_info": {
   "codemirror_mode": {
    "name": "ipython",
    "version": 3
   },
   "file_extension": ".py",
   "mimetype": "text/x-python",
   "name": "python",
   "nbconvert_exporter": "python",
   "pygments_lexer": "ipython3",
   "version": "3.9.7"
  }
 },
 "nbformat": 4,
 "nbformat_minor": 5
}
